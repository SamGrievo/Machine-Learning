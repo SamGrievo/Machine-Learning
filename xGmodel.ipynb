{
  "cells": [
    {
      "cell_type": "markdown",
      "metadata": {
        "id": "view-in-github",
        "colab_type": "text"
      },
      "source": [
        "<a href=\"https://colab.research.google.com/github/SamGrievo/Machine-Learning-and-Deep-Learning/blob/main/xGmodel.ipynb\" target=\"_parent\"><img src=\"https://colab.research.google.com/assets/colab-badge.svg\" alt=\"Open In Colab\"/></a>"
      ]
    },
    {
      "cell_type": "code",
      "execution_count": 1,
      "metadata": {
        "colab": {
          "base_uri": "https://localhost:8080/"
        },
        "id": "cJHg_ICyu_X3",
        "outputId": "c53e197a-9885-482b-d84a-8fd94fec5854"
      },
      "outputs": [
        {
          "output_type": "stream",
          "name": "stdout",
          "text": [
            "Looking in indexes: https://pypi.org/simple, https://us-python.pkg.dev/colab-wheels/public/simple/\n",
            "Collecting statsbombpy\n",
            "  Downloading statsbombpy-1.5.0-py3-none-any.whl (13 kB)\n",
            "Requirement already satisfied: pandas in /usr/local/lib/python3.7/dist-packages (from statsbombpy) (1.3.5)\n",
            "Collecting nose2\n",
            "  Downloading nose2-0.12.0-py2.py3-none-any.whl (152 kB)\n",
            "\u001b[K     |████████████████████████████████| 152 kB 5.2 MB/s \n",
            "\u001b[?25hRequirement already satisfied: joblib in /usr/local/lib/python3.7/dist-packages (from statsbombpy) (1.1.0)\n",
            "Collecting requests-cache\n",
            "  Downloading requests_cache-0.9.6-py3-none-any.whl (47 kB)\n",
            "\u001b[K     |████████████████████████████████| 47 kB 4.1 MB/s \n",
            "\u001b[?25hRequirement already satisfied: inflect in /usr/local/lib/python3.7/dist-packages (from statsbombpy) (2.1.0)\n",
            "Requirement already satisfied: requests in /usr/local/lib/python3.7/dist-packages (from statsbombpy) (2.23.0)\n",
            "Requirement already satisfied: python-dateutil>=2.7.3 in /usr/local/lib/python3.7/dist-packages (from pandas->statsbombpy) (2.8.2)\n",
            "Requirement already satisfied: pytz>=2017.3 in /usr/local/lib/python3.7/dist-packages (from pandas->statsbombpy) (2022.2.1)\n",
            "Requirement already satisfied: numpy>=1.17.3 in /usr/local/lib/python3.7/dist-packages (from pandas->statsbombpy) (1.21.6)\n",
            "Requirement already satisfied: six>=1.5 in /usr/local/lib/python3.7/dist-packages (from python-dateutil>=2.7.3->pandas->statsbombpy) (1.15.0)\n",
            "Requirement already satisfied: chardet<4,>=3.0.2 in /usr/local/lib/python3.7/dist-packages (from requests->statsbombpy) (3.0.4)\n",
            "Requirement already satisfied: urllib3!=1.25.0,!=1.25.1,<1.26,>=1.21.1 in /usr/local/lib/python3.7/dist-packages (from requests->statsbombpy) (1.24.3)\n",
            "Requirement already satisfied: idna<3,>=2.5 in /usr/local/lib/python3.7/dist-packages (from requests->statsbombpy) (2.10)\n",
            "Requirement already satisfied: certifi>=2017.4.17 in /usr/local/lib/python3.7/dist-packages (from requests->statsbombpy) (2022.6.15)\n",
            "Collecting url-normalize>=1.4\n",
            "  Downloading url_normalize-1.4.3-py2.py3-none-any.whl (6.8 kB)\n",
            "Requirement already satisfied: attrs>=21.2 in /usr/local/lib/python3.7/dist-packages (from requests-cache->statsbombpy) (22.1.0)\n",
            "Collecting cattrs>=1.8\n",
            "  Downloading cattrs-22.1.0-py3-none-any.whl (33 kB)\n",
            "Requirement already satisfied: appdirs>=1.4.4 in /usr/local/lib/python3.7/dist-packages (from requests-cache->statsbombpy) (1.4.4)\n",
            "Collecting urllib3!=1.25.0,!=1.25.1,<1.26,>=1.21.1\n",
            "  Downloading urllib3-1.25.11-py2.py3-none-any.whl (127 kB)\n",
            "\u001b[K     |████████████████████████████████| 127 kB 51.5 MB/s \n",
            "\u001b[?25hRequirement already satisfied: typing_extensions in /usr/local/lib/python3.7/dist-packages (from cattrs>=1.8->requests-cache->statsbombpy) (4.1.1)\n",
            "Collecting exceptiongroup\n",
            "  Downloading exceptiongroup-1.0.0rc9-py3-none-any.whl (12 kB)\n",
            "Installing collected packages: urllib3, exceptiongroup, url-normalize, cattrs, requests-cache, nose2, statsbombpy\n",
            "  Attempting uninstall: urllib3\n",
            "    Found existing installation: urllib3 1.24.3\n",
            "    Uninstalling urllib3-1.24.3:\n",
            "      Successfully uninstalled urllib3-1.24.3\n",
            "Successfully installed cattrs-22.1.0 exceptiongroup-1.0.0rc9 nose2-0.12.0 requests-cache-0.9.6 statsbombpy-1.5.0 url-normalize-1.4.3 urllib3-1.25.11\n",
            "Looking in indexes: https://pypi.org/simple, https://us-python.pkg.dev/colab-wheels/public/simple/\n",
            "Collecting mplsoccer\n",
            "  Downloading mplsoccer-1.1.6-py3-none-any.whl (101 kB)\n",
            "\u001b[K     |████████████████████████████████| 101 kB 2.7 MB/s \n",
            "\u001b[?25hRequirement already satisfied: pillow in /usr/local/lib/python3.7/dist-packages (from mplsoccer) (7.1.2)\n",
            "Requirement already satisfied: scipy in /usr/local/lib/python3.7/dist-packages (from mplsoccer) (1.7.3)\n",
            "Requirement already satisfied: seaborn in /usr/local/lib/python3.7/dist-packages (from mplsoccer) (0.11.2)\n",
            "Requirement already satisfied: requests in /usr/local/lib/python3.7/dist-packages (from mplsoccer) (2.23.0)\n",
            "Requirement already satisfied: pandas in /usr/local/lib/python3.7/dist-packages (from mplsoccer) (1.3.5)\n",
            "Requirement already satisfied: matplotlib in /usr/local/lib/python3.7/dist-packages (from mplsoccer) (3.2.2)\n",
            "Requirement already satisfied: numpy in /usr/local/lib/python3.7/dist-packages (from mplsoccer) (1.21.6)\n",
            "Requirement already satisfied: pyparsing!=2.0.4,!=2.1.2,!=2.1.6,>=2.0.1 in /usr/local/lib/python3.7/dist-packages (from matplotlib->mplsoccer) (3.0.9)\n",
            "Requirement already satisfied: kiwisolver>=1.0.1 in /usr/local/lib/python3.7/dist-packages (from matplotlib->mplsoccer) (1.4.4)\n",
            "Requirement already satisfied: python-dateutil>=2.1 in /usr/local/lib/python3.7/dist-packages (from matplotlib->mplsoccer) (2.8.2)\n",
            "Requirement already satisfied: cycler>=0.10 in /usr/local/lib/python3.7/dist-packages (from matplotlib->mplsoccer) (0.11.0)\n",
            "Requirement already satisfied: typing-extensions in /usr/local/lib/python3.7/dist-packages (from kiwisolver>=1.0.1->matplotlib->mplsoccer) (4.1.1)\n",
            "Requirement already satisfied: six>=1.5 in /usr/local/lib/python3.7/dist-packages (from python-dateutil>=2.1->matplotlib->mplsoccer) (1.15.0)\n",
            "Requirement already satisfied: pytz>=2017.3 in /usr/local/lib/python3.7/dist-packages (from pandas->mplsoccer) (2022.2.1)\n",
            "Requirement already satisfied: chardet<4,>=3.0.2 in /usr/local/lib/python3.7/dist-packages (from requests->mplsoccer) (3.0.4)\n",
            "Requirement already satisfied: urllib3!=1.25.0,!=1.25.1,<1.26,>=1.21.1 in /usr/local/lib/python3.7/dist-packages (from requests->mplsoccer) (1.25.11)\n",
            "Requirement already satisfied: idna<3,>=2.5 in /usr/local/lib/python3.7/dist-packages (from requests->mplsoccer) (2.10)\n",
            "Requirement already satisfied: certifi>=2017.4.17 in /usr/local/lib/python3.7/dist-packages (from requests->mplsoccer) (2022.6.15)\n",
            "Installing collected packages: mplsoccer\n",
            "Successfully installed mplsoccer-1.1.6\n"
          ]
        }
      ],
      "source": [
        "!pip install statsbombpy\n",
        "from statsbombpy import sb\n",
        "import pandas as pd\n",
        "import numpy as np\n",
        "import matplotlib.pyplot as plt\n",
        "!pip install mplsoccer\n",
        "from matplotlib.colors import LinearSegmentedColormap\n",
        "from scipy.ndimage import gaussian_filter\n",
        "import matplotlib.patheffects as path_effects\n",
        "from mplsoccer import (VerticalPitch, Pitch, create_transparent_cmap,\n",
        "                       FontManager, arrowhead_marker, Sbopen)\n",
        "import math as math\n",
        "from sklearn.preprocessing import MinMaxScaler\n",
        "from xgboost import XGBClassifier\n",
        "from sklearn.model_selection import train_test_split\n"
      ]
    },
    {
      "cell_type": "markdown",
      "metadata": {
        "id": "CuT-syPA_M9_"
      },
      "source": [
        "**Functions**\n"
      ]
    },
    {
      "cell_type": "code",
      "execution_count": 2,
      "metadata": {
        "id": "zbXB27LnvG6y"
      },
      "outputs": [],
      "source": [
        "def split_location(dataframe):\n",
        "\n",
        "  location_x = []\n",
        "  location_y = []\n",
        "\n",
        "  for i in range(len(dataframe)):\n",
        "\n",
        "    location_x.append(dataframe[i][0])\n",
        "    location_y.append(dataframe[i][1])\n",
        "\n",
        "  return location_x,location_y"
      ]
    },
    {
      "cell_type": "code",
      "execution_count": 3,
      "metadata": {
        "id": "LCsy7yJBvKsB"
      },
      "outputs": [],
      "source": [
        "def conversion_rate(total_shots,total_goals):\n",
        "\n",
        "  conversion_rate = []\n",
        "\n",
        "  for i in range(len(total_shots.values)):\n",
        "\n",
        "    conversion = total_goals.values[i]/total_shots.values[i]\n",
        "    conversion_rate.append(conversion)\n",
        "\n",
        "  \n",
        "  df_conversion = pd.DataFrame(index = total_shots.index)\n",
        "  df_conversion['Converion Rate'] = conversion_rate\n",
        "  \n",
        "\n",
        "  return df_conversion"
      ]
    },
    {
      "cell_type": "code",
      "execution_count": 4,
      "metadata": {
        "id": "G5FrJmXUvY6l"
      },
      "outputs": [],
      "source": [
        "def calculate_distance(dataframe,shot_x,shot_y):\n",
        "\n",
        "  distance = []\n",
        "  shortest_dis = 0\n",
        "  left_post_y = 36\n",
        "  right_post_y = 44\n",
        "    \n",
        "\n",
        "  for i in range(len(dataframe)):\n",
        "    if shot_x[i] > 60:\n",
        "      goal_x = 120\n",
        "      if shot_y[i] < left_post_y:\n",
        "        distance.append(math.sqrt((abs((shot_x[i] - goal_x)) ** 2) + (abs((shot_y[i] - left_post_y)) ** 2)))\n",
        "      elif shot_y[i] > right_post_y:\n",
        "        distance.append(math.sqrt((abs((shot_x[i] - goal_x)) ** 2) + (abs((shot_y[i] - right_post_y)) ** 2)))\n",
        "      elif left_post_y <= shot_y[i] <= right_post_y:\n",
        "        distance.append(abs(shot_x[i] - goal_x))\n",
        "        \n",
        "    elif shot_x[i] < 60:\n",
        "      goal_x = 0\n",
        "      if shot_y[i] < left_post_y:\n",
        "        distance.append(math.sqrt((abs((shot_x[i] - goal_x)) ** 2) + (abs((shot_y[i] - left_post_y)) ** 2)))\n",
        "      elif shot_y[i] > right_post_y:\n",
        "        distance.append(math.sqrt((abs((shot_x[i] - goal_x)) ** 2) + (abs((shot_y[i] - right_post_y)) ** 2)))\n",
        "      elif left_post_y <= shot_y[i] <= right_post_y:\n",
        "        distance.append(abs(shot_x[i] - goal_x))\n",
        "\n",
        "  return distance"
      ]
    },
    {
      "cell_type": "code",
      "execution_count": 5,
      "metadata": {
        "id": "zDiic_0M3y5Z"
      },
      "outputs": [],
      "source": [
        "def calculate_angle(dataframe,shot_x,shot_y):\n",
        "\n",
        "  angle = []\n",
        "  left_post_y = 36\n",
        "  right_post_y = 44\n",
        "  a_sqrd_goal_line = 8*8\n",
        "  error = []\n",
        "\n",
        "  for i in range(len(dataframe)):\n",
        "\n",
        "    if 60 < shot_x[i] < 120:\n",
        "      goal_x = 120\n",
        "      c_sqrd_left_post = ((shot_x[i] - goal_x)** 2) + ((shot_y[i] - left_post_y) ** 2)\n",
        "      b_sqrd_right_post = ((shot_x[i] - goal_x) ** 2) + ((shot_y[i] - right_post_y) ** 2)\n",
        "      angle.append(math.degrees(math.acos(((-a_sqrd_goal_line + b_sqrd_right_post + c_sqrd_left_post)/(2*math.sqrt(b_sqrd_right_post)*math.sqrt(c_sqrd_left_post))  ))))\n",
        "\n",
        "    elif 0 < shot_x[i] < 60:\n",
        "      goal_x = 0\n",
        "      c_sqrd_left_post = ((shot_x[i] - goal_x) ** 2) + ((shot_y[i] - left_post_y) ** 2)\n",
        "      b_sqrd_right_post = ((shot_x[i] - goal_x) ** 2) + ((shot_y[i] - right_post_y) ** 2)\n",
        "      angle.append(math.degrees(math.acos(((-a_sqrd_goal_line + b_sqrd_right_post + c_sqrd_left_post)/(2*math.sqrt(b_sqrd_right_post)*math.sqrt(c_sqrd_left_post))  ))))\n",
        "\n",
        "    elif shot_x[i] >= 120 or shot_x[i] <= 0:\n",
        "      angle.append(float(180.0))\n",
        "\n",
        "    \n",
        "\n",
        "\n",
        "  return angle\n",
        "\n"
      ]
    },
    {
      "cell_type": "markdown",
      "metadata": {
        "id": "PIl6RvYp_MVd"
      },
      "source": [
        "Collect statsbomb free data - womens super league 2020/2021"
      ]
    },
    {
      "cell_type": "code",
      "execution_count": 6,
      "metadata": {
        "id": "RgOV7OT6vLKs"
      },
      "outputs": [],
      "source": [
        "df_events = pd.DataFrame()\n",
        "df_events = sb.competition_events(country=\"England\",\n",
        "            division=\"FA Women's Super League\",\n",
        "            season=\"2019/2020\",\n",
        "            gender=\"female\", split=True)"
      ]
    },
    {
      "cell_type": "markdown",
      "metadata": {
        "id": "zrURZdje_XB8"
      },
      "source": [
        "Feature selection to create shot distance"
      ]
    },
    {
      "cell_type": "code",
      "execution_count": 7,
      "metadata": {
        "id": "FCdP5JTwvNTf"
      },
      "outputs": [],
      "source": [
        "df_event_shots = pd.DataFrame(df_events['shots'])"
      ]
    },
    {
      "cell_type": "code",
      "execution_count": 8,
      "metadata": {
        "id": "sy9aHgMPvTHe"
      },
      "outputs": [],
      "source": [
        "#create shots = goals and shots != goal dataframe\n",
        "df_event_shots_location = df_event_shots['location']\n",
        "df_events_shots_reset = df_event_shots_location.reset_index(drop=True)\n",
        "location_x,location_y = split_location(df_events_shots_reset)"
      ]
    },
    {
      "cell_type": "code",
      "execution_count": 9,
      "metadata": {
        "id": "DYFyicB0vW3E"
      },
      "outputs": [],
      "source": [
        "df_event_shots.insert(1,'location_x',location_x)\n",
        "df_event_shots.insert(1,'location_y',location_y)"
      ]
    },
    {
      "cell_type": "code",
      "execution_count": 10,
      "metadata": {
        "id": "tQVBGH5CvbPe"
      },
      "outputs": [],
      "source": [
        "shot_distance = calculate_distance(df_event_shots,df_event_shots['location_x'],df_event_shots['location_y'])"
      ]
    },
    {
      "cell_type": "code",
      "execution_count": 11,
      "metadata": {
        "id": "46NjTHqxvc7z"
      },
      "outputs": [],
      "source": [
        "df_event_shots.insert(1,'shot_distance',shot_distance)"
      ]
    },
    {
      "cell_type": "code",
      "execution_count": 12,
      "metadata": {
        "id": "By6WqgeSfoR_"
      },
      "outputs": [],
      "source": [
        "shot_angles = calculate_angle(df_event_shots,df_event_shots['location_x'],df_event_shots['location_y'])"
      ]
    },
    {
      "cell_type": "code",
      "execution_count": 13,
      "metadata": {
        "id": "s7uXt2JUxWZq"
      },
      "outputs": [],
      "source": [
        "df_event_shots.insert(1,'shot_angle',shot_angles)"
      ]
    },
    {
      "cell_type": "code",
      "execution_count": 14,
      "metadata": {
        "colab": {
          "base_uri": "https://localhost:8080/"
        },
        "id": "LYK9AOudLRR2",
        "outputId": "f663e345-45bb-4ecb-8942-09da2ca19b4b"
      },
      "outputs": [
        {
          "output_type": "execute_result",
          "data": {
            "text/plain": [
              "0        NaN\n",
              "1        NaN\n",
              "2        NaN\n",
              "3        NaN\n",
              "4        NaN\n",
              "        ... \n",
              "2218     NaN\n",
              "2219     NaN\n",
              "2220     NaN\n",
              "2221    True\n",
              "2222    True\n",
              "Name: under_pressure, Length: 2223, dtype: object"
            ]
          },
          "metadata": {},
          "execution_count": 14
        }
      ],
      "source": [
        "df_event_shots['under_pressure']"
      ]
    },
    {
      "cell_type": "code",
      "execution_count": 15,
      "metadata": {
        "id": "vL73H6Rhq_JI"
      },
      "outputs": [],
      "source": [
        "df = {'shot_one_on_one': df_event_shots['shot_one_on_one'].values, 'shot_open_goal': df_event_shots['shot_open_goal'].values, 'shot_first_time': df_event_shots['shot_first_time'].values, 'under_pressure': df_event_shots['under_pressure'].values}\n",
        "df_binary_features = pd.DataFrame(df)"
      ]
    },
    {
      "cell_type": "code",
      "execution_count": 16,
      "metadata": {
        "id": "F0nnWTbnukp0"
      },
      "outputs": [],
      "source": [
        "df_binary_features['shot_first_time'][df_binary_features['shot_first_time'] == True] = 1\n",
        "df_binary_features['shot_first_time'][df_binary_features['shot_first_time'].isnull()] = -1\n",
        "df_binary_features['shot_one_on_one'][df_binary_features['shot_one_on_one'] == True] = 1\n",
        "df_binary_features['shot_one_on_one'][df_binary_features['shot_one_on_one'].isnull()] = -1\n",
        "df_binary_features['shot_open_goal'][df_binary_features['shot_open_goal'] == True] = 1\n",
        "df_binary_features['shot_open_goal'][df_binary_features['shot_open_goal'].isnull()] = -1\n",
        "df_binary_features['under_pressure'][df_binary_features['under_pressure'] == True] = 1\n",
        "df_binary_features['under_pressure'][df_binary_features['under_pressure'].isnull()] = -1"
      ]
    },
    {
      "cell_type": "code",
      "execution_count": 17,
      "metadata": {
        "id": "l-3n0rCRCyAq"
      },
      "outputs": [],
      "source": [
        "df_event_shots = df_event_shots.drop(columns=['shot_one_on_one','shot_first_time','shot_open_goal','under_pressure'])"
      ]
    },
    {
      "cell_type": "code",
      "execution_count": 18,
      "metadata": {
        "id": "_PsBRXhI4Gmy"
      },
      "outputs": [],
      "source": [
        "df_event_shots = pd.concat([df_event_shots,df_binary_features], axis=1)"
      ]
    },
    {
      "cell_type": "markdown",
      "metadata": {
        "id": "HLAMfAtd_czT"
      },
      "source": [
        "Create xg features dataframe"
      ]
    },
    {
      "cell_type": "code",
      "execution_count": 19,
      "metadata": {
        "id": "RxvVyX0Pveh1"
      },
      "outputs": [],
      "source": [
        "d = {'shot_outcome':df_event_shots['shot_outcome'].values, 'shot_distance': df_event_shots['shot_distance'].values, 'shot_angle': df_event_shots['shot_angle'].values, 'shot_one_on_one': df_event_shots['shot_one_on_one'], 'shot_open_goal': df_event_shots['shot_open_goal'], 'shot_first_time': df_event_shots['shot_first_time'], 'under_pressure': df_event_shots['under_pressure'].values}\n",
        "df_xg_features = pd.DataFrame(data=d)"
      ]
    },
    {
      "cell_type": "code",
      "execution_count": 20,
      "metadata": {
        "colab": {
          "base_uri": "https://localhost:8080/",
          "height": 597
        },
        "id": "MJjr9aKAvgNs",
        "outputId": "ce826d6d-f3d2-4a20-fd95-6a5a12959e54"
      },
      "outputs": [
        {
          "output_type": "stream",
          "name": "stderr",
          "text": [
            "/usr/local/lib/python3.7/dist-packages/ipykernel_launcher.py:1: SettingWithCopyWarning: \n",
            "A value is trying to be set on a copy of a slice from a DataFrame\n",
            "\n",
            "See the caveats in the documentation: https://pandas.pydata.org/pandas-docs/stable/user_guide/indexing.html#returning-a-view-versus-a-copy\n",
            "  \"\"\"Entry point for launching an IPython kernel.\n",
            "/usr/local/lib/python3.7/dist-packages/ipykernel_launcher.py:2: SettingWithCopyWarning: \n",
            "A value is trying to be set on a copy of a slice from a DataFrame\n",
            "\n",
            "See the caveats in the documentation: https://pandas.pydata.org/pandas-docs/stable/user_guide/indexing.html#returning-a-view-versus-a-copy\n",
            "  \n"
          ]
        },
        {
          "output_type": "execute_result",
          "data": {
            "text/plain": [
              "     shot_outcome  shot_distance  shot_angle shot_one_on_one shot_open_goal  \\\n",
              "0               0      23.800000   18.831814              -1             -1   \n",
              "1               0      26.500000   16.929379              -1             -1   \n",
              "2               0       7.200000   57.930285              -1             -1   \n",
              "3               0      27.300733   16.298755              -1             -1   \n",
              "4               0      25.100000   17.758730              -1             -1   \n",
              "...           ...            ...         ...             ...            ...   \n",
              "2218            0      12.900388   21.477965              -1             -1   \n",
              "2219            0      23.547824   13.475304              -1             -1   \n",
              "2220            0      13.978555   19.797302              -1             -1   \n",
              "2221            0      24.800000   18.290216              -1             -1   \n",
              "2222            0      10.600000   38.502150              -1             -1   \n",
              "\n",
              "     shot_first_time under_pressure  \n",
              "0                 -1             -1  \n",
              "1                 -1             -1  \n",
              "2                  1             -1  \n",
              "3                 -1             -1  \n",
              "4                 -1             -1  \n",
              "...              ...            ...  \n",
              "2218               1             -1  \n",
              "2219              -1             -1  \n",
              "2220              -1             -1  \n",
              "2221              -1              1  \n",
              "2222              -1              1  \n",
              "\n",
              "[2223 rows x 7 columns]"
            ],
            "text/html": [
              "\n",
              "  <div id=\"df-63c5037a-6a7d-43c9-8f5b-88616049753c\">\n",
              "    <div class=\"colab-df-container\">\n",
              "      <div>\n",
              "<style scoped>\n",
              "    .dataframe tbody tr th:only-of-type {\n",
              "        vertical-align: middle;\n",
              "    }\n",
              "\n",
              "    .dataframe tbody tr th {\n",
              "        vertical-align: top;\n",
              "    }\n",
              "\n",
              "    .dataframe thead th {\n",
              "        text-align: right;\n",
              "    }\n",
              "</style>\n",
              "<table border=\"1\" class=\"dataframe\">\n",
              "  <thead>\n",
              "    <tr style=\"text-align: right;\">\n",
              "      <th></th>\n",
              "      <th>shot_outcome</th>\n",
              "      <th>shot_distance</th>\n",
              "      <th>shot_angle</th>\n",
              "      <th>shot_one_on_one</th>\n",
              "      <th>shot_open_goal</th>\n",
              "      <th>shot_first_time</th>\n",
              "      <th>under_pressure</th>\n",
              "    </tr>\n",
              "  </thead>\n",
              "  <tbody>\n",
              "    <tr>\n",
              "      <th>0</th>\n",
              "      <td>0</td>\n",
              "      <td>23.800000</td>\n",
              "      <td>18.831814</td>\n",
              "      <td>-1</td>\n",
              "      <td>-1</td>\n",
              "      <td>-1</td>\n",
              "      <td>-1</td>\n",
              "    </tr>\n",
              "    <tr>\n",
              "      <th>1</th>\n",
              "      <td>0</td>\n",
              "      <td>26.500000</td>\n",
              "      <td>16.929379</td>\n",
              "      <td>-1</td>\n",
              "      <td>-1</td>\n",
              "      <td>-1</td>\n",
              "      <td>-1</td>\n",
              "    </tr>\n",
              "    <tr>\n",
              "      <th>2</th>\n",
              "      <td>0</td>\n",
              "      <td>7.200000</td>\n",
              "      <td>57.930285</td>\n",
              "      <td>-1</td>\n",
              "      <td>-1</td>\n",
              "      <td>1</td>\n",
              "      <td>-1</td>\n",
              "    </tr>\n",
              "    <tr>\n",
              "      <th>3</th>\n",
              "      <td>0</td>\n",
              "      <td>27.300733</td>\n",
              "      <td>16.298755</td>\n",
              "      <td>-1</td>\n",
              "      <td>-1</td>\n",
              "      <td>-1</td>\n",
              "      <td>-1</td>\n",
              "    </tr>\n",
              "    <tr>\n",
              "      <th>4</th>\n",
              "      <td>0</td>\n",
              "      <td>25.100000</td>\n",
              "      <td>17.758730</td>\n",
              "      <td>-1</td>\n",
              "      <td>-1</td>\n",
              "      <td>-1</td>\n",
              "      <td>-1</td>\n",
              "    </tr>\n",
              "    <tr>\n",
              "      <th>...</th>\n",
              "      <td>...</td>\n",
              "      <td>...</td>\n",
              "      <td>...</td>\n",
              "      <td>...</td>\n",
              "      <td>...</td>\n",
              "      <td>...</td>\n",
              "      <td>...</td>\n",
              "    </tr>\n",
              "    <tr>\n",
              "      <th>2218</th>\n",
              "      <td>0</td>\n",
              "      <td>12.900388</td>\n",
              "      <td>21.477965</td>\n",
              "      <td>-1</td>\n",
              "      <td>-1</td>\n",
              "      <td>1</td>\n",
              "      <td>-1</td>\n",
              "    </tr>\n",
              "    <tr>\n",
              "      <th>2219</th>\n",
              "      <td>0</td>\n",
              "      <td>23.547824</td>\n",
              "      <td>13.475304</td>\n",
              "      <td>-1</td>\n",
              "      <td>-1</td>\n",
              "      <td>-1</td>\n",
              "      <td>-1</td>\n",
              "    </tr>\n",
              "    <tr>\n",
              "      <th>2220</th>\n",
              "      <td>0</td>\n",
              "      <td>13.978555</td>\n",
              "      <td>19.797302</td>\n",
              "      <td>-1</td>\n",
              "      <td>-1</td>\n",
              "      <td>-1</td>\n",
              "      <td>-1</td>\n",
              "    </tr>\n",
              "    <tr>\n",
              "      <th>2221</th>\n",
              "      <td>0</td>\n",
              "      <td>24.800000</td>\n",
              "      <td>18.290216</td>\n",
              "      <td>-1</td>\n",
              "      <td>-1</td>\n",
              "      <td>-1</td>\n",
              "      <td>1</td>\n",
              "    </tr>\n",
              "    <tr>\n",
              "      <th>2222</th>\n",
              "      <td>0</td>\n",
              "      <td>10.600000</td>\n",
              "      <td>38.502150</td>\n",
              "      <td>-1</td>\n",
              "      <td>-1</td>\n",
              "      <td>-1</td>\n",
              "      <td>1</td>\n",
              "    </tr>\n",
              "  </tbody>\n",
              "</table>\n",
              "<p>2223 rows × 7 columns</p>\n",
              "</div>\n",
              "      <button class=\"colab-df-convert\" onclick=\"convertToInteractive('df-63c5037a-6a7d-43c9-8f5b-88616049753c')\"\n",
              "              title=\"Convert this dataframe to an interactive table.\"\n",
              "              style=\"display:none;\">\n",
              "        \n",
              "  <svg xmlns=\"http://www.w3.org/2000/svg\" height=\"24px\"viewBox=\"0 0 24 24\"\n",
              "       width=\"24px\">\n",
              "    <path d=\"M0 0h24v24H0V0z\" fill=\"none\"/>\n",
              "    <path d=\"M18.56 5.44l.94 2.06.94-2.06 2.06-.94-2.06-.94-.94-2.06-.94 2.06-2.06.94zm-11 1L8.5 8.5l.94-2.06 2.06-.94-2.06-.94L8.5 2.5l-.94 2.06-2.06.94zm10 10l.94 2.06.94-2.06 2.06-.94-2.06-.94-.94-2.06-.94 2.06-2.06.94z\"/><path d=\"M17.41 7.96l-1.37-1.37c-.4-.4-.92-.59-1.43-.59-.52 0-1.04.2-1.43.59L10.3 9.45l-7.72 7.72c-.78.78-.78 2.05 0 2.83L4 21.41c.39.39.9.59 1.41.59.51 0 1.02-.2 1.41-.59l7.78-7.78 2.81-2.81c.8-.78.8-2.07 0-2.86zM5.41 20L4 18.59l7.72-7.72 1.47 1.35L5.41 20z\"/>\n",
              "  </svg>\n",
              "      </button>\n",
              "      \n",
              "  <style>\n",
              "    .colab-df-container {\n",
              "      display:flex;\n",
              "      flex-wrap:wrap;\n",
              "      gap: 12px;\n",
              "    }\n",
              "\n",
              "    .colab-df-convert {\n",
              "      background-color: #E8F0FE;\n",
              "      border: none;\n",
              "      border-radius: 50%;\n",
              "      cursor: pointer;\n",
              "      display: none;\n",
              "      fill: #1967D2;\n",
              "      height: 32px;\n",
              "      padding: 0 0 0 0;\n",
              "      width: 32px;\n",
              "    }\n",
              "\n",
              "    .colab-df-convert:hover {\n",
              "      background-color: #E2EBFA;\n",
              "      box-shadow: 0px 1px 2px rgba(60, 64, 67, 0.3), 0px 1px 3px 1px rgba(60, 64, 67, 0.15);\n",
              "      fill: #174EA6;\n",
              "    }\n",
              "\n",
              "    [theme=dark] .colab-df-convert {\n",
              "      background-color: #3B4455;\n",
              "      fill: #D2E3FC;\n",
              "    }\n",
              "\n",
              "    [theme=dark] .colab-df-convert:hover {\n",
              "      background-color: #434B5C;\n",
              "      box-shadow: 0px 1px 3px 1px rgba(0, 0, 0, 0.15);\n",
              "      filter: drop-shadow(0px 1px 2px rgba(0, 0, 0, 0.3));\n",
              "      fill: #FFFFFF;\n",
              "    }\n",
              "  </style>\n",
              "\n",
              "      <script>\n",
              "        const buttonEl =\n",
              "          document.querySelector('#df-63c5037a-6a7d-43c9-8f5b-88616049753c button.colab-df-convert');\n",
              "        buttonEl.style.display =\n",
              "          google.colab.kernel.accessAllowed ? 'block' : 'none';\n",
              "\n",
              "        async function convertToInteractive(key) {\n",
              "          const element = document.querySelector('#df-63c5037a-6a7d-43c9-8f5b-88616049753c');\n",
              "          const dataTable =\n",
              "            await google.colab.kernel.invokeFunction('convertToInteractive',\n",
              "                                                     [key], {});\n",
              "          if (!dataTable) return;\n",
              "\n",
              "          const docLinkHtml = 'Like what you see? Visit the ' +\n",
              "            '<a target=\"_blank\" href=https://colab.research.google.com/notebooks/data_table.ipynb>data table notebook</a>'\n",
              "            + ' to learn more about interactive tables.';\n",
              "          element.innerHTML = '';\n",
              "          dataTable['output_type'] = 'display_data';\n",
              "          await google.colab.output.renderOutput(dataTable, element);\n",
              "          const docLink = document.createElement('div');\n",
              "          docLink.innerHTML = docLinkHtml;\n",
              "          element.appendChild(docLink);\n",
              "        }\n",
              "      </script>\n",
              "    </div>\n",
              "  </div>\n",
              "  "
            ]
          },
          "metadata": {},
          "execution_count": 20
        }
      ],
      "source": [
        "df_xg_features['shot_outcome'][df_xg_features['shot_outcome'] != 'Goal'] = 0\n",
        "df_xg_features['shot_outcome'][df_xg_features['shot_outcome'] == 'Goal'] = 1\n",
        "df_xg_features"
      ]
    },
    {
      "cell_type": "markdown",
      "metadata": {
        "id": "H0mLMGMo_9rw"
      },
      "source": [
        "Plot Shots of Goals vs no Goals"
      ]
    },
    {
      "cell_type": "code",
      "execution_count": 21,
      "metadata": {
        "id": "An3KFOQib-fg"
      },
      "outputs": [],
      "source": [
        "plot_goals = df_event_shots[df_event_shots['shot_outcome'] == 'Goal']\n",
        "plot_no_goals = df_event_shots[df_event_shots['shot_outcome'] != 'Goal']"
      ]
    },
    {
      "cell_type": "code",
      "execution_count": null,
      "metadata": {
        "id": "jyzrPNsyal2o"
      },
      "outputs": [],
      "source": [
        "pitch = VerticalPitch(pad_bottom=0.5,  # pitch extends slightly below halfway line\n",
        "                      half=True,  # half of a pitch\n",
        "                      goal_type='box',\n",
        "                      goal_alpha=0.8)  # control the goal transparency\n",
        "fig, ax = pitch.draw(figsize=(12, 10))\n",
        "\n",
        "\n",
        "sc2 = pitch.scatter(plot_no_goals['location_x'], plot_no_goals['location_y'],\n",
        "                    # size varies between 100 and 1900 (points squared)\n",
        "                    s=(plot_no_goals['shot_statsbomb_xg'] * 1900) + 100,\n",
        "                    edgecolors='#606060',  # give the markers a charcoal border\n",
        "                    c='None',  # no facecolor for the markers\n",
        "                    hatch='///', \n",
        "                    marker='.',\n",
        "                    alpha=0.8,\n",
        "                    ax=ax)\n",
        "\n",
        "sc = pitch.scatter(plot_goals['location_x'], plot_goals['location_y'],\n",
        "                   # size varies between 100 and 1000 (points squared)\n",
        "                   s=(plot_goals['shot_statsbomb_xg'] * 900) + 100,\n",
        "                   c='#b94b75',  # color for scatter in hex format\n",
        "                   edgecolors='#383838',  \n",
        "                   marker='.',\n",
        "                   ax=ax)"
      ]
    },
    {
      "cell_type": "markdown",
      "metadata": {
        "id": "_14C1y3y_gxJ"
      },
      "source": [
        "Prepare data for xGBoost model training"
      ]
    },
    {
      "cell_type": "code",
      "execution_count": 23,
      "metadata": {
        "id": "qLKWLTKpvihL"
      },
      "outputs": [],
      "source": [
        "labels = df_xg_features['shot_outcome'].astype(int)\n",
        "features = df_xg_features.loc[:,df_xg_features.columns!='shot_outcome'].values"
      ]
    },
    {
      "cell_type": "code",
      "execution_count": 24,
      "metadata": {
        "id": "GPwNv626vkCs"
      },
      "outputs": [],
      "source": [
        "scaler = MinMaxScaler((-1,1))\n",
        "x = scaler.fit_transform(features)\n",
        "\n",
        "\n",
        "y = np.array(labels)"
      ]
    },
    {
      "cell_type": "code",
      "execution_count": 25,
      "metadata": {
        "id": "yYUTiay2vl3K"
      },
      "outputs": [],
      "source": [
        "x_train,x_test,y_train,y_test = train_test_split(x,y, random_state = 42, test_size=0.05)"
      ]
    },
    {
      "cell_type": "code",
      "execution_count": 26,
      "metadata": {
        "colab": {
          "base_uri": "https://localhost:8080/"
        },
        "id": "LcJoq-govn88",
        "outputId": "be375ccd-2fd9-4943-8f4c-149ae5a53f20"
      },
      "outputs": [
        {
          "output_type": "execute_result",
          "data": {
            "text/plain": [
              "XGBClassifier()"
            ]
          },
          "metadata": {},
          "execution_count": 26
        }
      ],
      "source": [
        "xgb = XGBClassifier()\n",
        "xgb.fit(x_train,y_train)"
      ]
    },
    {
      "cell_type": "code",
      "execution_count": 27,
      "metadata": {
        "id": "_e_-_9aU7w3D"
      },
      "outputs": [],
      "source": [
        "test = xgb.predict_proba(x_test)\n"
      ]
    },
    {
      "cell_type": "code",
      "execution_count": 28,
      "metadata": {
        "id": "HeWByjZGT_2X"
      },
      "outputs": [],
      "source": [
        "from sklearn import metrics\n",
        "from sklearn.neural_network import MLPClassifier\n",
        "\n",
        "mlp = MLPClassifier()"
      ]
    },
    {
      "cell_type": "code",
      "execution_count": 29,
      "metadata": {
        "id": "TYsAOuZlfmlo"
      },
      "outputs": [],
      "source": [
        "parameter_space = {\n",
        "    'hidden_layer_sizes': [(50,50,50), (50,100,50), (100,)],\n",
        "    'activation': ['tanh', 'relu'],\n",
        "    'solver': ['sgd', 'adam'],\n",
        "    'alpha': [0.0001, 0.001, 0.01, 0.0005,0.005,0.05],\n",
        "    'learning_rate': ['constant','adaptive']\n",
        "}"
      ]
    },
    {
      "cell_type": "code",
      "execution_count": 30,
      "metadata": {
        "colab": {
          "base_uri": "https://localhost:8080/"
        },
        "id": "oSezogkUf-zK",
        "outputId": "e34cc062-9dc8-4e4e-9e94-63a057d73d73"
      },
      "outputs": [
        {
          "output_type": "stream",
          "name": "stdout",
          "text": [
            "Fitting 5 folds for each of 144 candidates, totalling 720 fits\n",
            "Best parameters found:\n",
            " {'activation': 'relu', 'alpha': 0.05, 'hidden_layer_sizes': (50, 50, 50), 'learning_rate': 'adaptive', 'solver': 'adam'}\n"
          ]
        }
      ],
      "source": [
        "from sklearn.model_selection import GridSearchCV\n",
        "\n",
        "mlp_hyp = GridSearchCV(mlp, parameter_space, n_jobs=-1, cv=5, verbose=1)\n",
        "mlp_hyp.fit(x_train,y_train)\n",
        "\n",
        "# Best paramete set\n",
        "print('Best parameters found:\\n',  mlp_hyp.best_params_)"
      ]
    },
    {
      "cell_type": "markdown",
      "metadata": {
        "id": "-0KczvkxBdC2"
      },
      "source": [
        "XG for Chelsea Season. "
      ]
    },
    {
      "cell_type": "code",
      "execution_count": 31,
      "metadata": {
        "id": "_RYU0Fsz_Nmy"
      },
      "outputs": [],
      "source": [
        "df_events_ = sb.competition_events(country=\"England\",\n",
        "            division=\"FA Women's Super League\", \n",
        "            season=\"2020/2021\",\n",
        "            gender=\"female\",split=True)"
      ]
    },
    {
      "cell_type": "code",
      "execution_count": 32,
      "metadata": {
        "colab": {
          "base_uri": "https://localhost:8080/"
        },
        "id": "OvFUdWHUzdGr",
        "outputId": "3049f811-e6f4-4f26-b36b-8acc1753d315"
      },
      "outputs": [
        {
          "output_type": "execute_result",
          "data": {
            "text/plain": [
              "Normal           2572\n",
              "Half Volley       426\n",
              "Volley            197\n",
              "Lob                21\n",
              "Backheel           20\n",
              "Diving Header       7\n",
              "Overhead Kick       5\n",
              "Name: shot_technique, dtype: int64"
            ]
          },
          "metadata": {},
          "execution_count": 32
        }
      ],
      "source": [
        "df_event_shots_ = pd.DataFrame(df_events_['shots'])\n",
        "df_event_shots_['shot_technique'].value_counts(ascending=False)"
      ]
    },
    {
      "cell_type": "markdown",
      "metadata": {
        "id": "C_bbj5fGIpcg"
      },
      "source": [
        "Create features for the model"
      ]
    },
    {
      "cell_type": "code",
      "execution_count": 33,
      "metadata": {
        "id": "X1Z0nGEKzfCY"
      },
      "outputs": [],
      "source": [
        "df_events_location_ = df_event_shots_['location']\n",
        "df_reset_ = df_events_location_.reset_index(drop=True)\n",
        "\n",
        "location_x_,location_y_ = split_location(df_reset_)"
      ]
    },
    {
      "cell_type": "code",
      "execution_count": 34,
      "metadata": {
        "id": "dWVqBtAfzgkt"
      },
      "outputs": [],
      "source": [
        "df_event_shots_.insert(1,'location x',location_x_)\n",
        "df_event_shots_.insert(1,'location y',location_y_)"
      ]
    },
    {
      "cell_type": "code",
      "execution_count": 35,
      "metadata": {
        "id": "OJeDKLNu-03i"
      },
      "outputs": [],
      "source": [
        "shot_distance = calculate_distance(df_event_shots_,df_event_shots_['location x'].values,df_event_shots_['location y'].values)"
      ]
    },
    {
      "cell_type": "code",
      "execution_count": 36,
      "metadata": {
        "id": "ls9xTKPH_EcM"
      },
      "outputs": [],
      "source": [
        "df_event_shots_.insert(1,'shot_distance',shot_distance)"
      ]
    },
    {
      "cell_type": "code",
      "execution_count": 37,
      "metadata": {
        "id": "DXAJB4ZT_Ey0"
      },
      "outputs": [],
      "source": [
        "shot_angles = calculate_angle(df_event_shots_,df_event_shots_['location x'],df_event_shots_['location y'])"
      ]
    },
    {
      "cell_type": "code",
      "execution_count": 38,
      "metadata": {
        "id": "cJdL32BP_FGb"
      },
      "outputs": [],
      "source": [
        "df_event_shots_.insert(1,'shot_angle',shot_angles)"
      ]
    },
    {
      "cell_type": "code",
      "execution_count": 46,
      "metadata": {
        "id": "yz1N0H3i8dmB"
      },
      "outputs": [],
      "source": [
        "df_ = {'shot_one_on_one': df_event_shots_['shot_one_on_one'].values, 'shot_open_goal': df_event_shots_['shot_open_goal'].values, 'shot_first_time': df_event_shots_['shot_first_time'].values, 'under_pressure': df_event_shots_['under_pressure'].values}\n",
        "df_binary_features_ = pd.DataFrame(df_)"
      ]
    },
    {
      "cell_type": "code",
      "execution_count": 47,
      "metadata": {
        "id": "Idy_Dem48lTQ"
      },
      "outputs": [],
      "source": [
        "df_binary_features_['shot_first_time'][df_binary_features_['shot_first_time'] == True] = 1\n",
        "df_binary_features_['shot_first_time'][df_binary_features_['shot_first_time'].isnull()] = -1\n",
        "df_binary_features_['shot_one_on_one'][df_binary_features_['shot_one_on_one'] == True] = 1\n",
        "df_binary_features_['shot_one_on_one'][df_binary_features_['shot_one_on_one'].isnull()] = -1\n",
        "df_binary_features_['shot_open_goal'][df_binary_features_['shot_open_goal'] == True] = 1\n",
        "df_binary_features_['shot_open_goal'][df_binary_features_['shot_open_goal'].isnull()] = -1\n",
        "df_binary_features_['under_pressure'][df_binary_features_['under_pressure'] == True] = 1\n",
        "df_binary_features_['under_pressure'][df_binary_features_['under_pressure'].isnull()] = -1"
      ]
    },
    {
      "cell_type": "code",
      "execution_count": 48,
      "metadata": {
        "id": "yiV_dQKm8t4O"
      },
      "outputs": [],
      "source": [
        "df_event_shots_ = df_event_shots_.drop(columns=['shot_one_on_one','shot_first_time','shot_open_goal','under_pressure'])"
      ]
    },
    {
      "cell_type": "code",
      "execution_count": 49,
      "metadata": {
        "colab": {
          "base_uri": "https://localhost:8080/",
          "height": 468
        },
        "id": "-YTTaB4b84Ae",
        "outputId": "96f15b4d-0885-4451-f7ba-43d4068bfba2"
      },
      "outputs": [
        {
          "output_type": "execute_result",
          "data": {
            "text/plain": [
              "                                        id  shot_angle  shot_distance  \\\n",
              "0     9076cf40-9179-432a-9663-94cbbff6ce74   15.142123      22.107012   \n",
              "1     b3a321bb-597c-49da-b039-21cf7eeb6095   38.829181      10.600000   \n",
              "2     87d44b8c-955b-4341-a3c3-c6665fdb37bd   18.583741      24.400000   \n",
              "3     ac4a3cfb-cad7-4ebf-8fb1-3e97075fd13e   18.006837      24.407376   \n",
              "4     512cd927-1ddf-4921-9d2b-38658736aefe   34.518045       9.289241   \n",
              "...                                    ...         ...            ...   \n",
              "3243  83b225e0-9232-43ba-ba7c-5222eaf7fe81   41.772488       7.414850   \n",
              "3244  c46bcd47-083e-426c-9776-bfd662fb4e8b   20.697286      21.500000   \n",
              "3245  4604ac2a-2ccf-4f21-a312-51f45d9ef16a   15.546204      29.300000   \n",
              "3246  8c9133e2-5d6e-463b-906a-155482a55b7e   66.132675       5.800000   \n",
              "3247  0d41da88-f944-40da-ba9d-23eecc2f04ac   13.887750      29.893143   \n",
              "\n",
              "      location y  location x  index  period     timestamp  minute  second  \\\n",
              "0           54.6       100.6     92       1  00:01:27.151       1      27   \n",
              "1           43.0       109.4    278       1  00:05:21.756       5      21   \n",
              "2           38.9        95.6    338       1  00:06:57.808       6      57   \n",
              "3           44.6        95.6    460       1  00:10:06.492      10       6   \n",
              "4           33.7       111.0    609       1  00:14:50.232      14      50   \n",
              "...          ...         ...    ...     ...           ...     ...     ...   \n",
              "3243        34.7       112.7   2548       2  00:26:40.112      71      40   \n",
              "3244        37.0        98.5   2795       2  00:35:52.453      80      52   \n",
              "3245        39.7        90.7   2853       2  00:38:14.196      83      14   \n",
              "3246        38.3       114.2   2913       2  00:40:06.591      85       6   \n",
              "3247        50.4        90.8   3121       2  00:46:43.681      91      43   \n",
              "\n",
              "      ... shot_deflected  shot_saved_off_target shot_redirect off_camera  \\\n",
              "0     ...            NaN                    NaN           NaN        NaN   \n",
              "1     ...            NaN                    NaN           NaN        NaN   \n",
              "2     ...            NaN                    NaN           NaN        NaN   \n",
              "3     ...            NaN                    NaN           NaN        NaN   \n",
              "4     ...            NaN                    NaN           NaN        NaN   \n",
              "...   ...            ...                    ...           ...        ...   \n",
              "3243  ...            NaN                    NaN           NaN        NaN   \n",
              "3244  ...            NaN                    NaN           NaN        NaN   \n",
              "3245  ...            NaN                    NaN           NaN        NaN   \n",
              "3246  ...            NaN                    NaN           NaN        NaN   \n",
              "3247  ...            NaN                    NaN           NaN        NaN   \n",
              "\n",
              "     shot_follows_dribble shot_saved_to_post shot_one_on_one shot_open_goal  \\\n",
              "0                     NaN                NaN              -1             -1   \n",
              "1                     NaN                NaN              -1             -1   \n",
              "2                     NaN                NaN              -1             -1   \n",
              "3                     NaN                NaN              -1             -1   \n",
              "4                     NaN                NaN              -1             -1   \n",
              "...                   ...                ...             ...            ...   \n",
              "3243                  NaN                NaN              -1             -1   \n",
              "3244                  NaN                NaN              -1             -1   \n",
              "3245                  NaN                NaN              -1             -1   \n",
              "3246                  NaN                NaN              -1              1   \n",
              "3247                  NaN                NaN              -1             -1   \n",
              "\n",
              "      shot_first_time under_pressure  \n",
              "0                  -1             -1  \n",
              "1                  -1             -1  \n",
              "2                  -1             -1  \n",
              "3                  -1             -1  \n",
              "4                   1             -1  \n",
              "...               ...            ...  \n",
              "3243                1             -1  \n",
              "3244                1             -1  \n",
              "3245               -1             -1  \n",
              "3246                1             -1  \n",
              "3247               -1             -1  \n",
              "\n",
              "[3248 rows x 43 columns]"
            ],
            "text/html": [
              "\n",
              "  <div id=\"df-222a51d7-84bb-435e-8b90-865b66177d90\">\n",
              "    <div class=\"colab-df-container\">\n",
              "      <div>\n",
              "<style scoped>\n",
              "    .dataframe tbody tr th:only-of-type {\n",
              "        vertical-align: middle;\n",
              "    }\n",
              "\n",
              "    .dataframe tbody tr th {\n",
              "        vertical-align: top;\n",
              "    }\n",
              "\n",
              "    .dataframe thead th {\n",
              "        text-align: right;\n",
              "    }\n",
              "</style>\n",
              "<table border=\"1\" class=\"dataframe\">\n",
              "  <thead>\n",
              "    <tr style=\"text-align: right;\">\n",
              "      <th></th>\n",
              "      <th>id</th>\n",
              "      <th>shot_angle</th>\n",
              "      <th>shot_distance</th>\n",
              "      <th>location y</th>\n",
              "      <th>location x</th>\n",
              "      <th>index</th>\n",
              "      <th>period</th>\n",
              "      <th>timestamp</th>\n",
              "      <th>minute</th>\n",
              "      <th>second</th>\n",
              "      <th>...</th>\n",
              "      <th>shot_deflected</th>\n",
              "      <th>shot_saved_off_target</th>\n",
              "      <th>shot_redirect</th>\n",
              "      <th>off_camera</th>\n",
              "      <th>shot_follows_dribble</th>\n",
              "      <th>shot_saved_to_post</th>\n",
              "      <th>shot_one_on_one</th>\n",
              "      <th>shot_open_goal</th>\n",
              "      <th>shot_first_time</th>\n",
              "      <th>under_pressure</th>\n",
              "    </tr>\n",
              "  </thead>\n",
              "  <tbody>\n",
              "    <tr>\n",
              "      <th>0</th>\n",
              "      <td>9076cf40-9179-432a-9663-94cbbff6ce74</td>\n",
              "      <td>15.142123</td>\n",
              "      <td>22.107012</td>\n",
              "      <td>54.6</td>\n",
              "      <td>100.6</td>\n",
              "      <td>92</td>\n",
              "      <td>1</td>\n",
              "      <td>00:01:27.151</td>\n",
              "      <td>1</td>\n",
              "      <td>27</td>\n",
              "      <td>...</td>\n",
              "      <td>NaN</td>\n",
              "      <td>NaN</td>\n",
              "      <td>NaN</td>\n",
              "      <td>NaN</td>\n",
              "      <td>NaN</td>\n",
              "      <td>NaN</td>\n",
              "      <td>-1</td>\n",
              "      <td>-1</td>\n",
              "      <td>-1</td>\n",
              "      <td>-1</td>\n",
              "    </tr>\n",
              "    <tr>\n",
              "      <th>1</th>\n",
              "      <td>b3a321bb-597c-49da-b039-21cf7eeb6095</td>\n",
              "      <td>38.829181</td>\n",
              "      <td>10.600000</td>\n",
              "      <td>43.0</td>\n",
              "      <td>109.4</td>\n",
              "      <td>278</td>\n",
              "      <td>1</td>\n",
              "      <td>00:05:21.756</td>\n",
              "      <td>5</td>\n",
              "      <td>21</td>\n",
              "      <td>...</td>\n",
              "      <td>NaN</td>\n",
              "      <td>NaN</td>\n",
              "      <td>NaN</td>\n",
              "      <td>NaN</td>\n",
              "      <td>NaN</td>\n",
              "      <td>NaN</td>\n",
              "      <td>-1</td>\n",
              "      <td>-1</td>\n",
              "      <td>-1</td>\n",
              "      <td>-1</td>\n",
              "    </tr>\n",
              "    <tr>\n",
              "      <th>2</th>\n",
              "      <td>87d44b8c-955b-4341-a3c3-c6665fdb37bd</td>\n",
              "      <td>18.583741</td>\n",
              "      <td>24.400000</td>\n",
              "      <td>38.9</td>\n",
              "      <td>95.6</td>\n",
              "      <td>338</td>\n",
              "      <td>1</td>\n",
              "      <td>00:06:57.808</td>\n",
              "      <td>6</td>\n",
              "      <td>57</td>\n",
              "      <td>...</td>\n",
              "      <td>NaN</td>\n",
              "      <td>NaN</td>\n",
              "      <td>NaN</td>\n",
              "      <td>NaN</td>\n",
              "      <td>NaN</td>\n",
              "      <td>NaN</td>\n",
              "      <td>-1</td>\n",
              "      <td>-1</td>\n",
              "      <td>-1</td>\n",
              "      <td>-1</td>\n",
              "    </tr>\n",
              "    <tr>\n",
              "      <th>3</th>\n",
              "      <td>ac4a3cfb-cad7-4ebf-8fb1-3e97075fd13e</td>\n",
              "      <td>18.006837</td>\n",
              "      <td>24.407376</td>\n",
              "      <td>44.6</td>\n",
              "      <td>95.6</td>\n",
              "      <td>460</td>\n",
              "      <td>1</td>\n",
              "      <td>00:10:06.492</td>\n",
              "      <td>10</td>\n",
              "      <td>6</td>\n",
              "      <td>...</td>\n",
              "      <td>NaN</td>\n",
              "      <td>NaN</td>\n",
              "      <td>NaN</td>\n",
              "      <td>NaN</td>\n",
              "      <td>NaN</td>\n",
              "      <td>NaN</td>\n",
              "      <td>-1</td>\n",
              "      <td>-1</td>\n",
              "      <td>-1</td>\n",
              "      <td>-1</td>\n",
              "    </tr>\n",
              "    <tr>\n",
              "      <th>4</th>\n",
              "      <td>512cd927-1ddf-4921-9d2b-38658736aefe</td>\n",
              "      <td>34.518045</td>\n",
              "      <td>9.289241</td>\n",
              "      <td>33.7</td>\n",
              "      <td>111.0</td>\n",
              "      <td>609</td>\n",
              "      <td>1</td>\n",
              "      <td>00:14:50.232</td>\n",
              "      <td>14</td>\n",
              "      <td>50</td>\n",
              "      <td>...</td>\n",
              "      <td>NaN</td>\n",
              "      <td>NaN</td>\n",
              "      <td>NaN</td>\n",
              "      <td>NaN</td>\n",
              "      <td>NaN</td>\n",
              "      <td>NaN</td>\n",
              "      <td>-1</td>\n",
              "      <td>-1</td>\n",
              "      <td>1</td>\n",
              "      <td>-1</td>\n",
              "    </tr>\n",
              "    <tr>\n",
              "      <th>...</th>\n",
              "      <td>...</td>\n",
              "      <td>...</td>\n",
              "      <td>...</td>\n",
              "      <td>...</td>\n",
              "      <td>...</td>\n",
              "      <td>...</td>\n",
              "      <td>...</td>\n",
              "      <td>...</td>\n",
              "      <td>...</td>\n",
              "      <td>...</td>\n",
              "      <td>...</td>\n",
              "      <td>...</td>\n",
              "      <td>...</td>\n",
              "      <td>...</td>\n",
              "      <td>...</td>\n",
              "      <td>...</td>\n",
              "      <td>...</td>\n",
              "      <td>...</td>\n",
              "      <td>...</td>\n",
              "      <td>...</td>\n",
              "      <td>...</td>\n",
              "    </tr>\n",
              "    <tr>\n",
              "      <th>3243</th>\n",
              "      <td>83b225e0-9232-43ba-ba7c-5222eaf7fe81</td>\n",
              "      <td>41.772488</td>\n",
              "      <td>7.414850</td>\n",
              "      <td>34.7</td>\n",
              "      <td>112.7</td>\n",
              "      <td>2548</td>\n",
              "      <td>2</td>\n",
              "      <td>00:26:40.112</td>\n",
              "      <td>71</td>\n",
              "      <td>40</td>\n",
              "      <td>...</td>\n",
              "      <td>NaN</td>\n",
              "      <td>NaN</td>\n",
              "      <td>NaN</td>\n",
              "      <td>NaN</td>\n",
              "      <td>NaN</td>\n",
              "      <td>NaN</td>\n",
              "      <td>-1</td>\n",
              "      <td>-1</td>\n",
              "      <td>1</td>\n",
              "      <td>-1</td>\n",
              "    </tr>\n",
              "    <tr>\n",
              "      <th>3244</th>\n",
              "      <td>c46bcd47-083e-426c-9776-bfd662fb4e8b</td>\n",
              "      <td>20.697286</td>\n",
              "      <td>21.500000</td>\n",
              "      <td>37.0</td>\n",
              "      <td>98.5</td>\n",
              "      <td>2795</td>\n",
              "      <td>2</td>\n",
              "      <td>00:35:52.453</td>\n",
              "      <td>80</td>\n",
              "      <td>52</td>\n",
              "      <td>...</td>\n",
              "      <td>NaN</td>\n",
              "      <td>NaN</td>\n",
              "      <td>NaN</td>\n",
              "      <td>NaN</td>\n",
              "      <td>NaN</td>\n",
              "      <td>NaN</td>\n",
              "      <td>-1</td>\n",
              "      <td>-1</td>\n",
              "      <td>1</td>\n",
              "      <td>-1</td>\n",
              "    </tr>\n",
              "    <tr>\n",
              "      <th>3245</th>\n",
              "      <td>4604ac2a-2ccf-4f21-a312-51f45d9ef16a</td>\n",
              "      <td>15.546204</td>\n",
              "      <td>29.300000</td>\n",
              "      <td>39.7</td>\n",
              "      <td>90.7</td>\n",
              "      <td>2853</td>\n",
              "      <td>2</td>\n",
              "      <td>00:38:14.196</td>\n",
              "      <td>83</td>\n",
              "      <td>14</td>\n",
              "      <td>...</td>\n",
              "      <td>NaN</td>\n",
              "      <td>NaN</td>\n",
              "      <td>NaN</td>\n",
              "      <td>NaN</td>\n",
              "      <td>NaN</td>\n",
              "      <td>NaN</td>\n",
              "      <td>-1</td>\n",
              "      <td>-1</td>\n",
              "      <td>-1</td>\n",
              "      <td>-1</td>\n",
              "    </tr>\n",
              "    <tr>\n",
              "      <th>3246</th>\n",
              "      <td>8c9133e2-5d6e-463b-906a-155482a55b7e</td>\n",
              "      <td>66.132675</td>\n",
              "      <td>5.800000</td>\n",
              "      <td>38.3</td>\n",
              "      <td>114.2</td>\n",
              "      <td>2913</td>\n",
              "      <td>2</td>\n",
              "      <td>00:40:06.591</td>\n",
              "      <td>85</td>\n",
              "      <td>6</td>\n",
              "      <td>...</td>\n",
              "      <td>NaN</td>\n",
              "      <td>NaN</td>\n",
              "      <td>NaN</td>\n",
              "      <td>NaN</td>\n",
              "      <td>NaN</td>\n",
              "      <td>NaN</td>\n",
              "      <td>-1</td>\n",
              "      <td>1</td>\n",
              "      <td>1</td>\n",
              "      <td>-1</td>\n",
              "    </tr>\n",
              "    <tr>\n",
              "      <th>3247</th>\n",
              "      <td>0d41da88-f944-40da-ba9d-23eecc2f04ac</td>\n",
              "      <td>13.887750</td>\n",
              "      <td>29.893143</td>\n",
              "      <td>50.4</td>\n",
              "      <td>90.8</td>\n",
              "      <td>3121</td>\n",
              "      <td>2</td>\n",
              "      <td>00:46:43.681</td>\n",
              "      <td>91</td>\n",
              "      <td>43</td>\n",
              "      <td>...</td>\n",
              "      <td>NaN</td>\n",
              "      <td>NaN</td>\n",
              "      <td>NaN</td>\n",
              "      <td>NaN</td>\n",
              "      <td>NaN</td>\n",
              "      <td>NaN</td>\n",
              "      <td>-1</td>\n",
              "      <td>-1</td>\n",
              "      <td>-1</td>\n",
              "      <td>-1</td>\n",
              "    </tr>\n",
              "  </tbody>\n",
              "</table>\n",
              "<p>3248 rows × 43 columns</p>\n",
              "</div>\n",
              "      <button class=\"colab-df-convert\" onclick=\"convertToInteractive('df-222a51d7-84bb-435e-8b90-865b66177d90')\"\n",
              "              title=\"Convert this dataframe to an interactive table.\"\n",
              "              style=\"display:none;\">\n",
              "        \n",
              "  <svg xmlns=\"http://www.w3.org/2000/svg\" height=\"24px\"viewBox=\"0 0 24 24\"\n",
              "       width=\"24px\">\n",
              "    <path d=\"M0 0h24v24H0V0z\" fill=\"none\"/>\n",
              "    <path d=\"M18.56 5.44l.94 2.06.94-2.06 2.06-.94-2.06-.94-.94-2.06-.94 2.06-2.06.94zm-11 1L8.5 8.5l.94-2.06 2.06-.94-2.06-.94L8.5 2.5l-.94 2.06-2.06.94zm10 10l.94 2.06.94-2.06 2.06-.94-2.06-.94-.94-2.06-.94 2.06-2.06.94z\"/><path d=\"M17.41 7.96l-1.37-1.37c-.4-.4-.92-.59-1.43-.59-.52 0-1.04.2-1.43.59L10.3 9.45l-7.72 7.72c-.78.78-.78 2.05 0 2.83L4 21.41c.39.39.9.59 1.41.59.51 0 1.02-.2 1.41-.59l7.78-7.78 2.81-2.81c.8-.78.8-2.07 0-2.86zM5.41 20L4 18.59l7.72-7.72 1.47 1.35L5.41 20z\"/>\n",
              "  </svg>\n",
              "      </button>\n",
              "      \n",
              "  <style>\n",
              "    .colab-df-container {\n",
              "      display:flex;\n",
              "      flex-wrap:wrap;\n",
              "      gap: 12px;\n",
              "    }\n",
              "\n",
              "    .colab-df-convert {\n",
              "      background-color: #E8F0FE;\n",
              "      border: none;\n",
              "      border-radius: 50%;\n",
              "      cursor: pointer;\n",
              "      display: none;\n",
              "      fill: #1967D2;\n",
              "      height: 32px;\n",
              "      padding: 0 0 0 0;\n",
              "      width: 32px;\n",
              "    }\n",
              "\n",
              "    .colab-df-convert:hover {\n",
              "      background-color: #E2EBFA;\n",
              "      box-shadow: 0px 1px 2px rgba(60, 64, 67, 0.3), 0px 1px 3px 1px rgba(60, 64, 67, 0.15);\n",
              "      fill: #174EA6;\n",
              "    }\n",
              "\n",
              "    [theme=dark] .colab-df-convert {\n",
              "      background-color: #3B4455;\n",
              "      fill: #D2E3FC;\n",
              "    }\n",
              "\n",
              "    [theme=dark] .colab-df-convert:hover {\n",
              "      background-color: #434B5C;\n",
              "      box-shadow: 0px 1px 3px 1px rgba(0, 0, 0, 0.15);\n",
              "      filter: drop-shadow(0px 1px 2px rgba(0, 0, 0, 0.3));\n",
              "      fill: #FFFFFF;\n",
              "    }\n",
              "  </style>\n",
              "\n",
              "      <script>\n",
              "        const buttonEl =\n",
              "          document.querySelector('#df-222a51d7-84bb-435e-8b90-865b66177d90 button.colab-df-convert');\n",
              "        buttonEl.style.display =\n",
              "          google.colab.kernel.accessAllowed ? 'block' : 'none';\n",
              "\n",
              "        async function convertToInteractive(key) {\n",
              "          const element = document.querySelector('#df-222a51d7-84bb-435e-8b90-865b66177d90');\n",
              "          const dataTable =\n",
              "            await google.colab.kernel.invokeFunction('convertToInteractive',\n",
              "                                                     [key], {});\n",
              "          if (!dataTable) return;\n",
              "\n",
              "          const docLinkHtml = 'Like what you see? Visit the ' +\n",
              "            '<a target=\"_blank\" href=https://colab.research.google.com/notebooks/data_table.ipynb>data table notebook</a>'\n",
              "            + ' to learn more about interactive tables.';\n",
              "          element.innerHTML = '';\n",
              "          dataTable['output_type'] = 'display_data';\n",
              "          await google.colab.output.renderOutput(dataTable, element);\n",
              "          const docLink = document.createElement('div');\n",
              "          docLink.innerHTML = docLinkHtml;\n",
              "          element.appendChild(docLink);\n",
              "        }\n",
              "      </script>\n",
              "    </div>\n",
              "  </div>\n",
              "  "
            ]
          },
          "metadata": {},
          "execution_count": 49
        }
      ],
      "source": [
        "df_event_shots_ = pd.concat([df_event_shots_,df_binary_features_], axis=1)\n",
        "df_event_shots_"
      ]
    },
    {
      "cell_type": "markdown",
      "metadata": {
        "id": "VLcKHMFqIsDf"
      },
      "source": [
        "Prepare the model testing it with the chelsea game features"
      ]
    },
    {
      "cell_type": "code",
      "execution_count": 50,
      "metadata": {
        "colab": {
          "base_uri": "https://localhost:8080/",
          "height": 468
        },
        "id": "mHznDpzeAUDk",
        "outputId": "0bc9fbd5-3952-4caf-8c8e-c1583d125e39"
      },
      "outputs": [
        {
          "output_type": "execute_result",
          "data": {
            "text/plain": [
              "                                        id  shot_angle  shot_distance  \\\n",
              "95    af7016ae-3259-477b-a721-f4b76ca90f75   19.214298      22.617913   \n",
              "96    cbe01d22-8abf-43b0-8e2d-6e2b1c81f3ed   42.872397       9.800000   \n",
              "97    235e9ad9-be90-468e-a5fd-d886b2621517   45.915901       8.500000   \n",
              "98    abf89d2e-2501-4a36-87f2-3ec4ca9bd78f   21.645779      17.853851   \n",
              "99    64df1430-0f4f-4492-9581-406fcc373585   21.667369       9.849365   \n",
              "...                                    ...         ...            ...   \n",
              "3215  e5e4d9e9-d610-4a76-aace-a0d47e777239   28.864164      14.900000   \n",
              "3216  e64953d1-ee71-4f1c-af4d-86ada6981844   25.210402      11.141364   \n",
              "3217  be796e3a-1f75-4e8e-a34d-52f4bd0b7db2   32.839793      13.100000   \n",
              "3218  554ae440-b17b-4c73-a86d-d75437214542   17.574088       8.580210   \n",
              "3219  a3c211b3-1291-4146-b1d6-d14aaa40c987   12.218400      23.676360   \n",
              "\n",
              "      location y  location x  index  period     timestamp  minute  second  \\\n",
              "95          35.1        97.4    536       1  00:11:32.955      11      32   \n",
              "96          42.1       110.2    542       1  00:12:07.273      12       7   \n",
              "97          36.9       111.5    545       1  00:12:07.687      12       7   \n",
              "98          32.0       102.6    573       1  00:13:01.816      13       1   \n",
              "99          29.5       112.6    656       1  00:16:42.812      16      42   \n",
              "...          ...         ...    ...     ...           ...     ...     ...   \n",
              "3215        36.8       105.1   3103       2  00:34:29.164      79      29   \n",
              "3216        30.7       110.2   3217       2  00:36:58.215      81      58   \n",
              "3217        37.4       106.9   3340       2  00:39:16.432      84      16   \n",
              "3218        50.9       114.9   3446       2  00:41:27.351      86      27   \n",
              "3219        21.1       101.6   3558       2  00:45:31.883      90      31   \n",
              "\n",
              "      ... shot_deflected  shot_saved_off_target shot_redirect off_camera  \\\n",
              "95    ...            NaN                    NaN           NaN        NaN   \n",
              "96    ...            NaN                    NaN           NaN        NaN   \n",
              "97    ...            NaN                    NaN          True        NaN   \n",
              "98    ...            NaN                    NaN           NaN        NaN   \n",
              "99    ...            NaN                    NaN           NaN        NaN   \n",
              "...   ...            ...                    ...           ...        ...   \n",
              "3215  ...            NaN                    NaN           NaN        NaN   \n",
              "3216  ...            NaN                    NaN           NaN        NaN   \n",
              "3217  ...            NaN                    NaN           NaN        NaN   \n",
              "3218  ...            NaN                    NaN           NaN        NaN   \n",
              "3219  ...            NaN                    NaN           NaN        NaN   \n",
              "\n",
              "     shot_follows_dribble shot_saved_to_post shot_one_on_one shot_open_goal  \\\n",
              "95                    NaN                NaN              -1             -1   \n",
              "96                    NaN                NaN              -1             -1   \n",
              "97                    NaN                NaN              -1             -1   \n",
              "98                    NaN                NaN              -1             -1   \n",
              "99                    NaN                NaN              -1             -1   \n",
              "...                   ...                ...             ...            ...   \n",
              "3215                  NaN                NaN              -1             -1   \n",
              "3216                  NaN                NaN              -1             -1   \n",
              "3217                  NaN                NaN              -1             -1   \n",
              "3218                  NaN                NaN              -1             -1   \n",
              "3219                  NaN                NaN              -1             -1   \n",
              "\n",
              "      shot_first_time under_pressure  \n",
              "95                 -1             -1  \n",
              "96                 -1              1  \n",
              "97                 -1              1  \n",
              "98                  1             -1  \n",
              "99                  1             -1  \n",
              "...               ...            ...  \n",
              "3215                1             -1  \n",
              "3216               -1              1  \n",
              "3217               -1              1  \n",
              "3218               -1             -1  \n",
              "3219               -1             -1  \n",
              "\n",
              "[430 rows x 43 columns]"
            ],
            "text/html": [
              "\n",
              "  <div id=\"df-eef7995e-93b2-40db-afec-04bd24dab928\">\n",
              "    <div class=\"colab-df-container\">\n",
              "      <div>\n",
              "<style scoped>\n",
              "    .dataframe tbody tr th:only-of-type {\n",
              "        vertical-align: middle;\n",
              "    }\n",
              "\n",
              "    .dataframe tbody tr th {\n",
              "        vertical-align: top;\n",
              "    }\n",
              "\n",
              "    .dataframe thead th {\n",
              "        text-align: right;\n",
              "    }\n",
              "</style>\n",
              "<table border=\"1\" class=\"dataframe\">\n",
              "  <thead>\n",
              "    <tr style=\"text-align: right;\">\n",
              "      <th></th>\n",
              "      <th>id</th>\n",
              "      <th>shot_angle</th>\n",
              "      <th>shot_distance</th>\n",
              "      <th>location y</th>\n",
              "      <th>location x</th>\n",
              "      <th>index</th>\n",
              "      <th>period</th>\n",
              "      <th>timestamp</th>\n",
              "      <th>minute</th>\n",
              "      <th>second</th>\n",
              "      <th>...</th>\n",
              "      <th>shot_deflected</th>\n",
              "      <th>shot_saved_off_target</th>\n",
              "      <th>shot_redirect</th>\n",
              "      <th>off_camera</th>\n",
              "      <th>shot_follows_dribble</th>\n",
              "      <th>shot_saved_to_post</th>\n",
              "      <th>shot_one_on_one</th>\n",
              "      <th>shot_open_goal</th>\n",
              "      <th>shot_first_time</th>\n",
              "      <th>under_pressure</th>\n",
              "    </tr>\n",
              "  </thead>\n",
              "  <tbody>\n",
              "    <tr>\n",
              "      <th>95</th>\n",
              "      <td>af7016ae-3259-477b-a721-f4b76ca90f75</td>\n",
              "      <td>19.214298</td>\n",
              "      <td>22.617913</td>\n",
              "      <td>35.1</td>\n",
              "      <td>97.4</td>\n",
              "      <td>536</td>\n",
              "      <td>1</td>\n",
              "      <td>00:11:32.955</td>\n",
              "      <td>11</td>\n",
              "      <td>32</td>\n",
              "      <td>...</td>\n",
              "      <td>NaN</td>\n",
              "      <td>NaN</td>\n",
              "      <td>NaN</td>\n",
              "      <td>NaN</td>\n",
              "      <td>NaN</td>\n",
              "      <td>NaN</td>\n",
              "      <td>-1</td>\n",
              "      <td>-1</td>\n",
              "      <td>-1</td>\n",
              "      <td>-1</td>\n",
              "    </tr>\n",
              "    <tr>\n",
              "      <th>96</th>\n",
              "      <td>cbe01d22-8abf-43b0-8e2d-6e2b1c81f3ed</td>\n",
              "      <td>42.872397</td>\n",
              "      <td>9.800000</td>\n",
              "      <td>42.1</td>\n",
              "      <td>110.2</td>\n",
              "      <td>542</td>\n",
              "      <td>1</td>\n",
              "      <td>00:12:07.273</td>\n",
              "      <td>12</td>\n",
              "      <td>7</td>\n",
              "      <td>...</td>\n",
              "      <td>NaN</td>\n",
              "      <td>NaN</td>\n",
              "      <td>NaN</td>\n",
              "      <td>NaN</td>\n",
              "      <td>NaN</td>\n",
              "      <td>NaN</td>\n",
              "      <td>-1</td>\n",
              "      <td>-1</td>\n",
              "      <td>-1</td>\n",
              "      <td>1</td>\n",
              "    </tr>\n",
              "    <tr>\n",
              "      <th>97</th>\n",
              "      <td>235e9ad9-be90-468e-a5fd-d886b2621517</td>\n",
              "      <td>45.915901</td>\n",
              "      <td>8.500000</td>\n",
              "      <td>36.9</td>\n",
              "      <td>111.5</td>\n",
              "      <td>545</td>\n",
              "      <td>1</td>\n",
              "      <td>00:12:07.687</td>\n",
              "      <td>12</td>\n",
              "      <td>7</td>\n",
              "      <td>...</td>\n",
              "      <td>NaN</td>\n",
              "      <td>NaN</td>\n",
              "      <td>True</td>\n",
              "      <td>NaN</td>\n",
              "      <td>NaN</td>\n",
              "      <td>NaN</td>\n",
              "      <td>-1</td>\n",
              "      <td>-1</td>\n",
              "      <td>-1</td>\n",
              "      <td>1</td>\n",
              "    </tr>\n",
              "    <tr>\n",
              "      <th>98</th>\n",
              "      <td>abf89d2e-2501-4a36-87f2-3ec4ca9bd78f</td>\n",
              "      <td>21.645779</td>\n",
              "      <td>17.853851</td>\n",
              "      <td>32.0</td>\n",
              "      <td>102.6</td>\n",
              "      <td>573</td>\n",
              "      <td>1</td>\n",
              "      <td>00:13:01.816</td>\n",
              "      <td>13</td>\n",
              "      <td>1</td>\n",
              "      <td>...</td>\n",
              "      <td>NaN</td>\n",
              "      <td>NaN</td>\n",
              "      <td>NaN</td>\n",
              "      <td>NaN</td>\n",
              "      <td>NaN</td>\n",
              "      <td>NaN</td>\n",
              "      <td>-1</td>\n",
              "      <td>-1</td>\n",
              "      <td>1</td>\n",
              "      <td>-1</td>\n",
              "    </tr>\n",
              "    <tr>\n",
              "      <th>99</th>\n",
              "      <td>64df1430-0f4f-4492-9581-406fcc373585</td>\n",
              "      <td>21.667369</td>\n",
              "      <td>9.849365</td>\n",
              "      <td>29.5</td>\n",
              "      <td>112.6</td>\n",
              "      <td>656</td>\n",
              "      <td>1</td>\n",
              "      <td>00:16:42.812</td>\n",
              "      <td>16</td>\n",
              "      <td>42</td>\n",
              "      <td>...</td>\n",
              "      <td>NaN</td>\n",
              "      <td>NaN</td>\n",
              "      <td>NaN</td>\n",
              "      <td>NaN</td>\n",
              "      <td>NaN</td>\n",
              "      <td>NaN</td>\n",
              "      <td>-1</td>\n",
              "      <td>-1</td>\n",
              "      <td>1</td>\n",
              "      <td>-1</td>\n",
              "    </tr>\n",
              "    <tr>\n",
              "      <th>...</th>\n",
              "      <td>...</td>\n",
              "      <td>...</td>\n",
              "      <td>...</td>\n",
              "      <td>...</td>\n",
              "      <td>...</td>\n",
              "      <td>...</td>\n",
              "      <td>...</td>\n",
              "      <td>...</td>\n",
              "      <td>...</td>\n",
              "      <td>...</td>\n",
              "      <td>...</td>\n",
              "      <td>...</td>\n",
              "      <td>...</td>\n",
              "      <td>...</td>\n",
              "      <td>...</td>\n",
              "      <td>...</td>\n",
              "      <td>...</td>\n",
              "      <td>...</td>\n",
              "      <td>...</td>\n",
              "      <td>...</td>\n",
              "      <td>...</td>\n",
              "    </tr>\n",
              "    <tr>\n",
              "      <th>3215</th>\n",
              "      <td>e5e4d9e9-d610-4a76-aace-a0d47e777239</td>\n",
              "      <td>28.864164</td>\n",
              "      <td>14.900000</td>\n",
              "      <td>36.8</td>\n",
              "      <td>105.1</td>\n",
              "      <td>3103</td>\n",
              "      <td>2</td>\n",
              "      <td>00:34:29.164</td>\n",
              "      <td>79</td>\n",
              "      <td>29</td>\n",
              "      <td>...</td>\n",
              "      <td>NaN</td>\n",
              "      <td>NaN</td>\n",
              "      <td>NaN</td>\n",
              "      <td>NaN</td>\n",
              "      <td>NaN</td>\n",
              "      <td>NaN</td>\n",
              "      <td>-1</td>\n",
              "      <td>-1</td>\n",
              "      <td>1</td>\n",
              "      <td>-1</td>\n",
              "    </tr>\n",
              "    <tr>\n",
              "      <th>3216</th>\n",
              "      <td>e64953d1-ee71-4f1c-af4d-86ada6981844</td>\n",
              "      <td>25.210402</td>\n",
              "      <td>11.141364</td>\n",
              "      <td>30.7</td>\n",
              "      <td>110.2</td>\n",
              "      <td>3217</td>\n",
              "      <td>2</td>\n",
              "      <td>00:36:58.215</td>\n",
              "      <td>81</td>\n",
              "      <td>58</td>\n",
              "      <td>...</td>\n",
              "      <td>NaN</td>\n",
              "      <td>NaN</td>\n",
              "      <td>NaN</td>\n",
              "      <td>NaN</td>\n",
              "      <td>NaN</td>\n",
              "      <td>NaN</td>\n",
              "      <td>-1</td>\n",
              "      <td>-1</td>\n",
              "      <td>-1</td>\n",
              "      <td>1</td>\n",
              "    </tr>\n",
              "    <tr>\n",
              "      <th>3217</th>\n",
              "      <td>be796e3a-1f75-4e8e-a34d-52f4bd0b7db2</td>\n",
              "      <td>32.839793</td>\n",
              "      <td>13.100000</td>\n",
              "      <td>37.4</td>\n",
              "      <td>106.9</td>\n",
              "      <td>3340</td>\n",
              "      <td>2</td>\n",
              "      <td>00:39:16.432</td>\n",
              "      <td>84</td>\n",
              "      <td>16</td>\n",
              "      <td>...</td>\n",
              "      <td>NaN</td>\n",
              "      <td>NaN</td>\n",
              "      <td>NaN</td>\n",
              "      <td>NaN</td>\n",
              "      <td>NaN</td>\n",
              "      <td>NaN</td>\n",
              "      <td>-1</td>\n",
              "      <td>-1</td>\n",
              "      <td>-1</td>\n",
              "      <td>1</td>\n",
              "    </tr>\n",
              "    <tr>\n",
              "      <th>3218</th>\n",
              "      <td>554ae440-b17b-4c73-a86d-d75437214542</td>\n",
              "      <td>17.574088</td>\n",
              "      <td>8.580210</td>\n",
              "      <td>50.9</td>\n",
              "      <td>114.9</td>\n",
              "      <td>3446</td>\n",
              "      <td>2</td>\n",
              "      <td>00:41:27.351</td>\n",
              "      <td>86</td>\n",
              "      <td>27</td>\n",
              "      <td>...</td>\n",
              "      <td>NaN</td>\n",
              "      <td>NaN</td>\n",
              "      <td>NaN</td>\n",
              "      <td>NaN</td>\n",
              "      <td>NaN</td>\n",
              "      <td>NaN</td>\n",
              "      <td>-1</td>\n",
              "      <td>-1</td>\n",
              "      <td>-1</td>\n",
              "      <td>-1</td>\n",
              "    </tr>\n",
              "    <tr>\n",
              "      <th>3219</th>\n",
              "      <td>a3c211b3-1291-4146-b1d6-d14aaa40c987</td>\n",
              "      <td>12.218400</td>\n",
              "      <td>23.676360</td>\n",
              "      <td>21.1</td>\n",
              "      <td>101.6</td>\n",
              "      <td>3558</td>\n",
              "      <td>2</td>\n",
              "      <td>00:45:31.883</td>\n",
              "      <td>90</td>\n",
              "      <td>31</td>\n",
              "      <td>...</td>\n",
              "      <td>NaN</td>\n",
              "      <td>NaN</td>\n",
              "      <td>NaN</td>\n",
              "      <td>NaN</td>\n",
              "      <td>NaN</td>\n",
              "      <td>NaN</td>\n",
              "      <td>-1</td>\n",
              "      <td>-1</td>\n",
              "      <td>-1</td>\n",
              "      <td>-1</td>\n",
              "    </tr>\n",
              "  </tbody>\n",
              "</table>\n",
              "<p>430 rows × 43 columns</p>\n",
              "</div>\n",
              "      <button class=\"colab-df-convert\" onclick=\"convertToInteractive('df-eef7995e-93b2-40db-afec-04bd24dab928')\"\n",
              "              title=\"Convert this dataframe to an interactive table.\"\n",
              "              style=\"display:none;\">\n",
              "        \n",
              "  <svg xmlns=\"http://www.w3.org/2000/svg\" height=\"24px\"viewBox=\"0 0 24 24\"\n",
              "       width=\"24px\">\n",
              "    <path d=\"M0 0h24v24H0V0z\" fill=\"none\"/>\n",
              "    <path d=\"M18.56 5.44l.94 2.06.94-2.06 2.06-.94-2.06-.94-.94-2.06-.94 2.06-2.06.94zm-11 1L8.5 8.5l.94-2.06 2.06-.94-2.06-.94L8.5 2.5l-.94 2.06-2.06.94zm10 10l.94 2.06.94-2.06 2.06-.94-2.06-.94-.94-2.06-.94 2.06-2.06.94z\"/><path d=\"M17.41 7.96l-1.37-1.37c-.4-.4-.92-.59-1.43-.59-.52 0-1.04.2-1.43.59L10.3 9.45l-7.72 7.72c-.78.78-.78 2.05 0 2.83L4 21.41c.39.39.9.59 1.41.59.51 0 1.02-.2 1.41-.59l7.78-7.78 2.81-2.81c.8-.78.8-2.07 0-2.86zM5.41 20L4 18.59l7.72-7.72 1.47 1.35L5.41 20z\"/>\n",
              "  </svg>\n",
              "      </button>\n",
              "      \n",
              "  <style>\n",
              "    .colab-df-container {\n",
              "      display:flex;\n",
              "      flex-wrap:wrap;\n",
              "      gap: 12px;\n",
              "    }\n",
              "\n",
              "    .colab-df-convert {\n",
              "      background-color: #E8F0FE;\n",
              "      border: none;\n",
              "      border-radius: 50%;\n",
              "      cursor: pointer;\n",
              "      display: none;\n",
              "      fill: #1967D2;\n",
              "      height: 32px;\n",
              "      padding: 0 0 0 0;\n",
              "      width: 32px;\n",
              "    }\n",
              "\n",
              "    .colab-df-convert:hover {\n",
              "      background-color: #E2EBFA;\n",
              "      box-shadow: 0px 1px 2px rgba(60, 64, 67, 0.3), 0px 1px 3px 1px rgba(60, 64, 67, 0.15);\n",
              "      fill: #174EA6;\n",
              "    }\n",
              "\n",
              "    [theme=dark] .colab-df-convert {\n",
              "      background-color: #3B4455;\n",
              "      fill: #D2E3FC;\n",
              "    }\n",
              "\n",
              "    [theme=dark] .colab-df-convert:hover {\n",
              "      background-color: #434B5C;\n",
              "      box-shadow: 0px 1px 3px 1px rgba(0, 0, 0, 0.15);\n",
              "      filter: drop-shadow(0px 1px 2px rgba(0, 0, 0, 0.3));\n",
              "      fill: #FFFFFF;\n",
              "    }\n",
              "  </style>\n",
              "\n",
              "      <script>\n",
              "        const buttonEl =\n",
              "          document.querySelector('#df-eef7995e-93b2-40db-afec-04bd24dab928 button.colab-df-convert');\n",
              "        buttonEl.style.display =\n",
              "          google.colab.kernel.accessAllowed ? 'block' : 'none';\n",
              "\n",
              "        async function convertToInteractive(key) {\n",
              "          const element = document.querySelector('#df-eef7995e-93b2-40db-afec-04bd24dab928');\n",
              "          const dataTable =\n",
              "            await google.colab.kernel.invokeFunction('convertToInteractive',\n",
              "                                                     [key], {});\n",
              "          if (!dataTable) return;\n",
              "\n",
              "          const docLinkHtml = 'Like what you see? Visit the ' +\n",
              "            '<a target=\"_blank\" href=https://colab.research.google.com/notebooks/data_table.ipynb>data table notebook</a>'\n",
              "            + ' to learn more about interactive tables.';\n",
              "          element.innerHTML = '';\n",
              "          dataTable['output_type'] = 'display_data';\n",
              "          await google.colab.output.renderOutput(dataTable, element);\n",
              "          const docLink = document.createElement('div');\n",
              "          docLink.innerHTML = docLinkHtml;\n",
              "          element.appendChild(docLink);\n",
              "        }\n",
              "      </script>\n",
              "    </div>\n",
              "  </div>\n",
              "  "
            ]
          },
          "metadata": {},
          "execution_count": 50
        }
      ],
      "source": [
        "df_event_shots_match = df_event_shots_[df_event_shots_['team'] == 'Chelsea FCW'  ]\n",
        "df_event_shots_match"
      ]
    },
    {
      "cell_type": "code",
      "execution_count": 52,
      "metadata": {
        "id": "PftAkMb1zlT_"
      },
      "outputs": [],
      "source": [
        "d = {'shot distance': df_event_shots_match['shot_distance'].values, 'shot angle': df_event_shots_match['shot_angle'], 'shot_one_on_one': df_event_shots_match['shot_one_on_one'], 'shot_open_goal': df_event_shots_match['shot_open_goal'], 'shot_first_time': df_event_shots_match['shot_first_time'], 'under_pressure': df_event_shots_match['under_pressure'] }\n",
        "df_test_shots = pd.DataFrame(data=d)"
      ]
    },
    {
      "cell_type": "code",
      "execution_count": 53,
      "metadata": {
        "id": "dxNX0LdJzsPQ"
      },
      "outputs": [],
      "source": [
        "scaler = MinMaxScaler((-1,1))\n",
        "x = scaler.fit_transform(df_test_shots.values)\n",
        "\n",
        "xg_shots_match = xgb.predict_proba(x)"
      ]
    },
    {
      "cell_type": "code",
      "execution_count": 54,
      "metadata": {
        "id": "u6SRK91gAgc3"
      },
      "outputs": [],
      "source": [
        "xg_boost_xg = []\n",
        "for i in range(len(xg_shots_match)):\n",
        "  xg_boost_xg.append(xg_shots_match[i,1])"
      ]
    },
    {
      "cell_type": "code",
      "execution_count": 55,
      "metadata": {
        "id": "nxz5ML8oAiNk"
      },
      "outputs": [],
      "source": [
        "df_event_shots_match.insert(1,'xg_boost_xg',xg_boost_xg)"
      ]
    },
    {
      "cell_type": "code",
      "execution_count": 56,
      "metadata": {
        "id": "gTzRAReidCl0"
      },
      "outputs": [],
      "source": [
        "xg_shots_match_mlp = mlp_hyp.predict_proba(x)"
      ]
    },
    {
      "cell_type": "code",
      "execution_count": 57,
      "metadata": {
        "id": "qNWQhuLNVpoC"
      },
      "outputs": [],
      "source": [
        "mlp_xg = []\n",
        "for i in range(len(xg_shots_match_mlp)):\n",
        "  mlp_xg.append(xg_shots_match_mlp[i,1])"
      ]
    },
    {
      "cell_type": "code",
      "execution_count": 58,
      "metadata": {
        "id": "s7pfFr0VVs1x"
      },
      "outputs": [],
      "source": [
        "df_event_shots_match.insert(1,'mlp_xg', mlp_xg)"
      ]
    },
    {
      "cell_type": "markdown",
      "metadata": {
        "id": "fUJpSuzyIa_r"
      },
      "source": [
        "Xg Boost - exptected goals from chelsea shots for the season"
      ]
    },
    {
      "cell_type": "code",
      "execution_count": 59,
      "metadata": {
        "colab": {
          "base_uri": "https://localhost:8080/",
          "height": 648
        },
        "id": "ovdgFWaHBp95",
        "outputId": "2bf8a386-8420-47bd-e170-c405d3fa09b4"
      },
      "outputs": [
        {
          "output_type": "display_data",
          "data": {
            "text/plain": [
              "<Figure size 864x720 with 1 Axes>"
            ],
            "image/png": "[encoded data removed]"
          },
          "metadata": {}
        }
      ],
      "source": [
        "pitch = VerticalPitch(pad_bottom=0.5,  # pitch extends slightly below halfway line\n",
        "                      half=True,  # half of a pitch\n",
        "                      goal_type='box',\n",
        "                      goal_alpha=0.8)  # control the goal transparency\n",
        "fig, ax = pitch.draw(figsize=(12, 10))\n",
        "\n",
        "\n",
        "sc = pitch.scatter(df_event_shots_match['location x'], df_event_shots_match['location y'],\n",
        "                   # size varies between 100 and 1000 (points squared)\n",
        "                   s=(df_event_shots_match['xg_boost_xg'] * 900) + 100,\n",
        "                   c='#b32929',  # color for scatter in hex format\n",
        "                   edgecolors='#383838',  \n",
        "                   marker='.',\n",
        "                   ax=ax)\n",
        "\n"
      ]
    },
    {
      "cell_type": "markdown",
      "metadata": {
        "id": "d75yHWY7IiCc"
      },
      "source": [
        "MLP - exptected goals from chelsea shots for the season"
      ]
    },
    {
      "cell_type": "code",
      "execution_count": 60,
      "metadata": {
        "colab": {
          "base_uri": "https://localhost:8080/",
          "height": 648
        },
        "id": "XH5CmGbJVgw6",
        "outputId": "0a3b0199-890a-4e40-d0c5-c633701c31da"
      },
      "outputs": [
        {
          "output_type": "display_data",
          "data": {
            "text/plain": [
              "<Figure size 864x720 with 1 Axes>"
            ],
            "image/png": "[encoded data removed]"
          },
          "metadata": {}
        }
      ],
      "source": [
        "fig, ax = pitch.draw(figsize=(12, 10))\n",
        "\n",
        "\n",
        "sc = pitch.scatter(df_event_shots_match['location x'], df_event_shots_match['location y'],\n",
        "                   # size varies between 100 and 1000 (points squared)\n",
        "                   s=(df_event_shots_match['mlp_xg'] * 900) + 100,\n",
        "                   c='#40eb34',  # color for scatter in hex format\n",
        "                   edgecolors='#383838',  \n",
        "                   marker='.',\n",
        "                   ax=ax)"
      ]
    },
    {
      "cell_type": "markdown",
      "metadata": {
        "id": "vvx-OQyBIj59"
      },
      "source": [
        "Statsbomb - exptected goals from chelsea shots for the season"
      ]
    },
    {
      "cell_type": "code",
      "execution_count": 61,
      "metadata": {
        "colab": {
          "base_uri": "https://localhost:8080/",
          "height": 648
        },
        "id": "bpXXaFgaB_jE",
        "outputId": "67edc452-0324-403e-c1eb-7528dfce0d4b"
      },
      "outputs": [
        {
          "output_type": "display_data",
          "data": {
            "text/plain": [
              "<Figure size 864x720 with 1 Axes>"
            ],
            "image/png": "[encoded data removed]"
          },
          "metadata": {}
        }
      ],
      "source": [
        "fig, ax = pitch.draw(figsize=(12, 10))\n",
        "sc1 = pitch.scatter(df_event_shots_match['location x'], df_event_shots_match['location y'],\n",
        "                   # size varies between 100 and 1000 (points squared)\n",
        "                   s=(df_event_shots_match['shot_statsbomb_xg'] * 900) + 100,\n",
        "                   c='#3549e6',  # color for scatter in hex format\n",
        "                   edgecolors='#383838',  \n",
        "                   marker='.',\n",
        "                   ax=ax)"
      ]
    }
  ],
  "metadata": {
    "colab": {
      "collapsed_sections": [],
      "provenance": [],
      "mount_file_id": "1ir2aCiINTSNqFD_6YfpTaD6pM99L8bSg",
      "authorship_tag": "ABX9TyOirukCp7qsfrjBfx6KiNKy",
      "include_colab_link": true
    },
    "kernelspec": {
      "display_name": "Python 3",
      "name": "python3"
    },
    "language_info": {
      "name": "python"
    }
  },
  "nbformat": 4,
  "nbformat_minor": 0
}